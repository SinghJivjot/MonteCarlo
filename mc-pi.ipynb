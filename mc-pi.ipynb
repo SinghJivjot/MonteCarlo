{
 "cells": [
  {
   "cell_type": "code",
   "execution_count": 1,
   "metadata": {},
   "outputs": [],
   "source": [
    "import numpy as np\n",
    "import plotly.express as px\n",
    "from sklearn.utils import check_random_state\n",
    "from PIL import Image, ImageDraw, ImageFont\n",
    "import os"
   ]
  },
  {
   "cell_type": "code",
   "execution_count": 2,
   "metadata": {},
   "outputs": [],
   "source": [
    "class PIfinder:\n",
    "    def __init__(\n",
    "        self, \n",
    "        r,\n",
    "        seeds,\n",
    "        ):\n",
    "        self.seed_x, self.seed_y = check_random_state(seeds[0]), check_random_state(seeds[1])\n",
    "        self.r = r\n",
    "        \n",
    "    def _get_cordinate_ranges(\n",
    "        self,\n",
    "        max_samples\n",
    "    ):\n",
    "        x = self.seed_x.uniform(-self.r, self.r, max_samples)\n",
    "        y = self.seed_y.uniform(-self.r, self.r, max_samples)\n",
    "        return x, y\n",
    "    \n",
    "    def _indicator_function(\n",
    "        self,\n",
    "        x,\n",
    "        y\n",
    "    ):\n",
    "        return x**2 + y**2 <= self.r**2\n",
    "    \n",
    "    def _do_monteCarlo_integration(\n",
    "        self,\n",
    "        max_samples\n",
    "    ):\n",
    "        constant = 4 * (self.r**2) * (1/max_samples)\n",
    "        x, y = self._get_cordinate_ranges(max_samples)\n",
    "        I = constant * np.sum(self._indicator_function(x, y), axis=0)\n",
    "        return I/self.r**2"
   ]
  },
  {
   "cell_type": "code",
   "execution_count": 3,
   "metadata": {},
   "outputs": [
    {
     "data": {
      "text/plain": [
       "3.1533333333333333"
      ]
     },
     "execution_count": 3,
     "metadata": {},
     "output_type": "execute_result"
    }
   ],
   "source": [
    "pi_object = PIfinder(r=1, seeds=(5, 10))\n",
    "max_samples = 3000\n",
    "pi_value = pi_object._do_monteCarlo_integration(max_samples)\n",
    "pi_value"
   ]
  },
  {
   "cell_type": "code",
   "execution_count": 4,
   "metadata": {},
   "outputs": [],
   "source": [
    "pi_history = [pi_object._do_monteCarlo_integration(samples) for samples in range(1, max_samples+1)]"
   ]
  },
  {
   "cell_type": "code",
   "execution_count": 5,
   "metadata": {},
   "outputs": [],
   "source": [
    "r = pi_object.r\n",
    "max_samples = 3000\n",
    "x, y = pi_object._get_cordinate_ranges(max_samples)\n",
    "for samples in range(1, max_samples+1):    \n",
    "    fig = px.scatter(\n",
    "        x = x[:samples],\n",
    "        y = y[:samples],\n",
    "        color=pi_object._indicator_function(x[:samples], y[:samples]),\n",
    "        color_discrete_map={0: 'red', 1: 'blue'},\n",
    "        )\n",
    "    fig.update_xaxes(showline=False, showgrid=False)\n",
    "    fig.update_yaxes(showline=False, showgrid=False)\n",
    "    fig.update_layout(width=600, height=600, showlegend=False,\n",
    "                      xaxis = dict(range=[-r,r]),\n",
    "                      yaxis = dict(range=[-r,r]),\n",
    "                      template='plotly_dark',\n",
    "                      )\n",
    "    fig.add_shape(\n",
    "        type='circle',\n",
    "        xref='x',\n",
    "        yref='y',\n",
    "        x0=-r, \n",
    "        y0=-r,  \n",
    "        x1=r,  \n",
    "        y1=r,  \n",
    "        line=dict(color='white', width=0.5),\n",
    "        )\n",
    "    fig.update_traces(marker_size=4)\n",
    "    fig.write_image(f'path/{samples}.png')"
   ]
  },
  {
   "cell_type": "code",
   "execution_count": 5,
   "metadata": {},
   "outputs": [],
   "source": [
    "def create_animation(image_folder, output_path, frame_duration=4, loop=True):\n",
    "    images = []\n",
    "    font_size = 15\n",
    "    for i in range(1, max_samples+1):\n",
    "        filename = f'{i}.png'\n",
    "        image_path = os.path.join(image_folder, filename)\n",
    "        img = Image.open(image_path)\n",
    "        draw = ImageDraw.Draw(img)\n",
    "        font = ImageFont.truetype(\"/usr/share/fonts/truetype/freefont/FreeMono.ttf\", size=font_size)\n",
    "        draw.text((20, 15), f'Samples: {i}/{max_samples} \\nπ: {round(pi_history[i-1],4)}', fill='white', font=font)\n",
    "        images.append(img)\n",
    "    images[0].save(output_path, save_all=True, append_images=images[1:], duration=frame_duration, loop=0 if loop else 1)\n",
    "\n",
    "if __name__ == \"__main__\":\n",
    "    folder_path = \"path\"\n",
    "    output_gif_path = \"path/pi2.gif\"\n",
    "    frame_duration_ms = 4\n",
    "    loop_animation = True\n",
    "    create_animation(folder_path, output_gif_path, frame_duration_ms, loop_animation)"
   ]
  }
 ],
 "metadata": {
  "kernelspec": {
   "display_name": "updated-python",
   "language": "python",
   "name": "python3"
  },
  "language_info": {
   "codemirror_mode": {
    "name": "ipython",
    "version": 3
   },
   "file_extension": ".py",
   "mimetype": "text/x-python",
   "name": "python",
   "nbconvert_exporter": "python",
   "pygments_lexer": "ipython3",
   "version": "3.11.4"
  },
  "orig_nbformat": 4
 },
 "nbformat": 4,
 "nbformat_minor": 2
}
